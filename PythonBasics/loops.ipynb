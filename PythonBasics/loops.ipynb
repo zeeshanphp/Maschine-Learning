{
 "cells": [
  {
   "cell_type": "code",
   "execution_count": 14,
   "id": "2a057b11",
   "metadata": {},
   "outputs": [
    {
     "name": "stdout",
     "output_type": "stream",
     "text": [
      "2670\n"
     ]
    }
   ],
   "source": [
    "num = [1,2,3,4]\n",
    "sum = 0\n",
    "# for i in num:\n",
    "#     sum += i*2\n",
    "# print(sum)   \n",
    "\n",
    "for i in range(1, 90 , 3):\n",
    "    sum += i*2\n",
    "    # print(i , sum)\n",
    "print(sum)  "
   ]
  }
 ],
 "metadata": {
  "kernelspec": {
   "display_name": "base",
   "language": "python",
   "name": "python3"
  },
  "language_info": {
   "codemirror_mode": {
    "name": "ipython",
    "version": 3
   },
   "file_extension": ".py",
   "mimetype": "text/x-python",
   "name": "python",
   "nbconvert_exporter": "python",
   "pygments_lexer": "ipython3",
   "version": "3.12.7"
  }
 },
 "nbformat": 4,
 "nbformat_minor": 5
}
