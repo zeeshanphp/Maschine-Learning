{
 "cells": [
  {
   "cell_type": "markdown",
   "id": "b0420f65",
   "metadata": {},
   "source": [
    "# Lists"
   ]
  },
  {
   "cell_type": "code",
   "execution_count": 1,
   "id": "f88f85af",
   "metadata": {},
   "outputs": [
    {
     "name": "stdout",
     "output_type": "stream",
     "text": [
      "['zeeshan', 'zeeshan@gmail.com', 23, '03236517781']\n"
     ]
    }
   ],
   "source": [
    "users = ['zeeshan' , 'zeeshan@gmail.com' , 23 , \"03236517781\"]\n",
    "print(users)"
   ]
  },
  {
   "cell_type": "markdown",
   "id": "8eafe11d",
   "metadata": {},
   "source": [
    "## Printing a List"
   ]
  },
  {
   "cell_type": "code",
   "execution_count": 4,
   "id": "0b32e410",
   "metadata": {},
   "outputs": [
    {
     "name": "stdout",
     "output_type": "stream",
     "text": [
      "zeeshan\n",
      "zeeshan@gmail.com\n",
      "23\n",
      "03236517781\n"
     ]
    }
   ],
   "source": [
    "for items in users :\n",
    "    print(items)"
   ]
  },
  {
   "cell_type": "code",
   "execution_count": 6,
   "id": "de8da527",
   "metadata": {},
   "outputs": [
    {
     "name": "stdout",
     "output_type": "stream",
     "text": [
      "zeeshan\n",
      "zeeshan@gmail.com\n",
      "23\n",
      "03236517781\n"
     ]
    }
   ],
   "source": [
    "len(users)\n",
    "for i in range(len(users)):\n",
    "    print(users[i])"
   ]
  },
  {
   "cell_type": "code",
   "execution_count": null,
   "id": "a74287fb",
   "metadata": {},
   "outputs": [
    {
     "data": {
      "text/plain": [
       "[90, 45, 22, 12, 2]"
      ]
     },
     "execution_count": 13,
     "metadata": {},
     "output_type": "execute_result"
    }
   ],
   "source": [
    "ages = [22, 45, 2, 12 , 90]\n",
    "# Get maximum and minimum from list\n",
    "max(ages)\n",
    "min(ages)\n",
    "# Sum of list\n",
    "sum(ages)\n",
    "# sorting list Ascending\n",
    "ages.sort()\n",
    "ages\n",
    "# Sorting list Descending\n",
    "ages.sort(reverse=True)\n",
    "ages"
   ]
  },
  {
   "cell_type": "markdown",
   "id": "7706bac4",
   "metadata": {},
   "source": [
    "### Check if the number exists in list or not"
   ]
  },
  {
   "cell_type": "code",
   "execution_count": 14,
   "id": "1d84a7b8",
   "metadata": {},
   "outputs": [
    {
     "name": "stdout",
     "output_type": "stream",
     "text": [
      "Your are not Registered\n"
     ]
    }
   ],
   "source": [
    "age = input(\"Enter Number To Check in list\")\n",
    "\n",
    "if age in ages:\n",
    "    print(\"You are Registered\")\n",
    "else:\n",
    "    print(\"Your are not Registered\")"
   ]
  },
  {
   "cell_type": "markdown",
   "id": "87fe5e69",
   "metadata": {},
   "source": [
    "### Segregatting Duplicate values in list"
   ]
  },
  {
   "cell_type": "code",
   "execution_count": 19,
   "id": "0c8832bd",
   "metadata": {},
   "outputs": [
    {
     "name": "stdout",
     "output_type": "stream",
     "text": [
      "[23, 56, 98, 32] [23, 56, 23, 98, 32, 56, 23]\n"
     ]
    }
   ],
   "source": [
    "age = [23,56,23,98,32,56,23]\n",
    "unique = []\n",
    "for a in range(len(age)):\n",
    "    if age[a] not in unique:\n",
    "        unique.append(age[a])\n",
    "\n",
    "print(unique, age)"
   ]
  },
  {
   "cell_type": "markdown",
   "id": "5da84011",
   "metadata": {},
   "source": [
    "### Merging two lists"
   ]
  },
  {
   "cell_type": "code",
   "execution_count": 21,
   "id": "218b7964",
   "metadata": {},
   "outputs": [
    {
     "data": {
      "text/plain": [
       "[23, 45, 98, 29, 12, 45, 12, 78, 23, 56]"
      ]
     },
     "execution_count": 21,
     "metadata": {},
     "output_type": "execute_result"
    }
   ],
   "source": [
    "age_one = [23,45,98,29]\n",
    "age_b = [12,45,12,78,23,56]\n",
    "age_c = age_one+age_b\n",
    "age_c\n"
   ]
  },
  {
   "cell_type": "markdown",
   "id": "98511669",
   "metadata": {},
   "source": [
    "### Adding / Multiplying Two Lists"
   ]
  },
  {
   "cell_type": "code",
   "execution_count": 27,
   "id": "775eacb3",
   "metadata": {},
   "outputs": [
    {
     "name": "stdout",
     "output_type": "stream",
     "text": [
      "[276, 2025, 1176, 2262, 690, 1960] [35, 90, 110, 107, 53, 91]\n"
     ]
    }
   ],
   "source": [
    "list_a = [23,45,98,29,30,35]\n",
    "list_b = [12,45,12,78,23,56]\n",
    "sum = []\n",
    "for x,y in zip(list_a,list_b):\n",
    "    sum.append(x+y)\n",
    "sum\n",
    "# Using Comprehension\n",
    "mul = [x*y for x,y in zip(list_a,list_b)]\n",
    "print(mul , sum)"
   ]
  },
  {
   "cell_type": "markdown",
   "id": "e7de3eb9",
   "metadata": {},
   "source": [
    "### Printing only even numbers from list"
   ]
  },
  {
   "cell_type": "code",
   "execution_count": null,
   "id": "95a47beb",
   "metadata": {},
   "outputs": [
    {
     "name": "stdout",
     "output_type": "stream",
     "text": [
      "98\n",
      "30\n",
      "[98, 30]\n"
     ]
    }
   ],
   "source": [
    "even = []\n",
    "for x in list_a:\n",
    "    if x%2 == 0:\n",
    "        print (x)\n",
    "        even.append(x)\n",
    "        \n",
    "# Printing only even numbers in list using comprehensive method\n",
    "\n",
    "even = [x  for x in list_a if x%2 == 0]\n",
    "print(even)"
   ]
  },
  {
   "cell_type": "markdown",
   "id": "9a710a8d",
   "metadata": {},
   "source": [
    "### Find Second Largest Number"
   ]
  },
  {
   "cell_type": "code",
   "execution_count": 36,
   "id": "4b635f49",
   "metadata": {},
   "outputs": [
    {
     "data": {
      "text/plain": [
       "45"
      ]
     },
     "execution_count": 36,
     "metadata": {},
     "output_type": "execute_result"
    }
   ],
   "source": [
    "list_a\n",
    "list_a.sort(reverse=True)\n",
    "list_a\n",
    "list_a[1]"
   ]
  },
  {
   "cell_type": "markdown",
   "id": "62502ff7",
   "metadata": {},
   "source": [
    "### Separate ODD and EVEN numbers"
   ]
  },
  {
   "cell_type": "code",
   "execution_count": 37,
   "id": "5efebad8",
   "metadata": {},
   "outputs": [
    {
     "name": "stdout",
     "output_type": "stream",
     "text": [
      "Mix List [12, 7, 25, 40, 33, 18, 9, 56, 21, 44, 67, 82, 91, 36, 73] \n",
      " Even Numbers List [12, 40, 18, 56, 44, 82, 36] \n",
      " Odd Number list [7, 25, 33, 9, 21, 67, 91, 73]\n"
     ]
    }
   ],
   "source": [
    "mix_list = [12, 7, 25, 40, 33, 18, 9, 56, 21, 44, 67, 82, 91, 36, 73]\n",
    "\n",
    "even = [x for x in mix_list if x%2 == 0]\n",
    "odd = [x for x in mix_list if x%2 != 0]\n",
    "print(f\"Mix List {mix_list} \\n Even Numbers List {even} \\n Odd Number list {odd}\")"
   ]
  },
  {
   "cell_type": "markdown",
   "id": "c67a0f91",
   "metadata": {},
   "source": [
    "### Square and Cubes of list"
   ]
  },
  {
   "cell_type": "code",
   "execution_count": 39,
   "id": "f7aa5940",
   "metadata": {},
   "outputs": [
    {
     "data": {
      "text/plain": [
       "[1728,\n",
       " 343,\n",
       " 15625,\n",
       " 64000,\n",
       " 35937,\n",
       " 5832,\n",
       " 729,\n",
       " 175616,\n",
       " 9261,\n",
       " 85184,\n",
       " 300763,\n",
       " 551368,\n",
       " 753571,\n",
       " 46656,\n",
       " 389017]"
      ]
     },
     "execution_count": 39,
     "metadata": {},
     "output_type": "execute_result"
    }
   ],
   "source": [
    "squares = [x*x for x in mix_list]\n",
    "squares\n",
    "cubes = [x*x*x for x in mix_list]\n",
    "cubes"
   ]
  },
  {
   "cell_type": "markdown",
   "id": "e9b4b3fb",
   "metadata": {},
   "source": [
    "### Segregating prime numbers"
   ]
  },
  {
   "cell_type": "code",
   "execution_count": 64,
   "id": "b27c3e78",
   "metadata": {},
   "outputs": [
    {
     "name": "stdout",
     "output_type": "stream",
     "text": [
      "-1\n",
      "-2\n",
      "-3\n",
      "-4\n",
      "-5\n",
      "Palindorme\n",
      "[12, 34, 35, 34, 12]\n"
     ]
    }
   ],
   "source": [
    "a = [12,34,35,34,12]\n",
    "b =[]\n",
    "for i in range(len(a)):\n",
    "    print(-i-1)\n",
    "    b.append(a[-i -1])\n",
    "if a == b:\n",
    "    print(\"Palindorme\")\n",
    "else:\n",
    "    print(\"Not PAlindorm\")\n",
    "print(b)"
   ]
  }
 ],
 "metadata": {
  "kernelspec": {
   "display_name": "base",
   "language": "python",
   "name": "python3"
  },
  "language_info": {
   "codemirror_mode": {
    "name": "ipython",
    "version": 3
   },
   "file_extension": ".py",
   "mimetype": "text/x-python",
   "name": "python",
   "nbconvert_exporter": "python",
   "pygments_lexer": "ipython3",
   "version": "3.12.7"
  }
 },
 "nbformat": 4,
 "nbformat_minor": 5
}
