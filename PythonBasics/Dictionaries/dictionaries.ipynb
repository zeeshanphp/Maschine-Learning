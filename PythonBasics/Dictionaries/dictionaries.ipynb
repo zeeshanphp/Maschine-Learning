{
 "cells": [
  {
   "cell_type": "markdown",
   "id": "1b271952",
   "metadata": {},
   "source": [
    "# DICTIONARIES"
   ]
  },
  {
   "cell_type": "code",
   "execution_count": null,
   "id": "aae63b74",
   "metadata": {},
   "outputs": [
    {
     "name": "stdout",
     "output_type": "stream",
     "text": [
      "{'username': 'Izza', 'Email': 'Izza@gmal.com'}\n"
     ]
    }
   ],
   "source": [
    "# Create a 2D dictionary\n",
    "users = {\n",
    "    \"1\" : {\"username\":\"Zeeshan\" , \"Email\" : \"zeeshan@gmal.com\"},\n",
    "    \"2\" : {\"username\":\"Waliya\" , \"Email\" : \"waliya@gmal.com\"},\n",
    "    \"3\" : {\"username\":\"Izza\" , \"Email\" : \"Izza@gmal.com\"}\n",
    "}\n",
    "print(users[\"3\"])\n"
   ]
  },
  {
   "cell_type": "markdown",
   "id": "693c4509",
   "metadata": {},
   "source": [
    "#### Printing Dictionary"
   ]
  },
  {
   "cell_type": "code",
   "execution_count": 12,
   "id": "3ff7d873",
   "metadata": {},
   "outputs": [
    {
     "name": "stdout",
     "output_type": "stream",
     "text": [
      "{'username': 'Zeeshan', 'Email': 'zeeshan@gmal.com'}\n",
      "{'username': 'Waliya', 'Email': 'waliya@gmal.com'}\n",
      "{'username': 'Izza', 'Email': 'Izza@gmal.com'}\n"
     ]
    }
   ],
   "source": [
    "for index in users:\n",
    "    print(users[index])"
   ]
  },
  {
   "cell_type": "code",
   "execution_count": 14,
   "id": "b372791e",
   "metadata": {},
   "outputs": [
    {
     "name": "stdout",
     "output_type": "stream",
     "text": [
      "Index is 1 : {'username': 'Zeeshan', 'Email': 'zeeshan@gmal.com'} \n",
      "\n",
      "Index is 2 : {'username': 'Waliya', 'Email': 'waliya@gmal.com'} \n",
      "\n",
      "Index is 3 : {'username': 'Izza', 'Email': 'Izza@gmal.com'} \n",
      "\n"
     ]
    }
   ],
   "source": [
    "for index,details in users.items():\n",
    "    print(f\"Index is {index} : {details} \\n\")"
   ]
  },
  {
   "cell_type": "markdown",
   "id": "3abec03d",
   "metadata": {},
   "source": [
    "## Adding New Element in Dictionary"
   ]
  },
  {
   "cell_type": "code",
   "execution_count": 18,
   "id": "7d05f908",
   "metadata": {},
   "outputs": [
    {
     "name": "stdout",
     "output_type": "stream",
     "text": [
      "1 {'username': 'Zeeshan', 'Email': 'zeeshan@gmal.com'}\n",
      "2 {'username': 'Waliya', 'Email': 'waliya@gmal.com'}\n",
      "3 {'username': 'Izza', 'Email': 'Izza@gmail.com'}\n",
      "4 {'username': 'Fatima', 'Email': 'Fatima@gmail.com'}\n"
     ]
    }
   ],
   "source": [
    "users[\"3\"] = {\"username\": \"Izza\" , \"Email\" : \"Izza@gmail.com\"}\n",
    "for key, values in users.items():\n",
    "    print(key, values)\n",
    "# print(users)"
   ]
  },
  {
   "cell_type": "markdown",
   "id": "339b5228",
   "metadata": {},
   "source": [
    "## Push and POP methods in Dictionary\n",
    "pop has 2 methods `pop` and `popitem` \n",
    "- if we use `pop` we have to tell the index to pop from dictionay this method will remove the item at that index\n",
    "- if we use `popitem` method it will automatically remove the last element from dictionary"
   ]
  },
  {
   "cell_type": "code",
   "execution_count": 20,
   "id": "7a9cec6b",
   "metadata": {},
   "outputs": [
    {
     "name": "stdout",
     "output_type": "stream",
     "text": [
      "1 {'username': 'Zeeshan', 'Email': 'zeeshan@gmal.com'}\n",
      "2 {'username': 'Waliya', 'Email': 'waliya@gmal.com'}\n",
      "3 {'username': 'Izza', 'Email': 'Izza@gmail.com'}\n"
     ]
    }
   ],
   "source": [
    "users.popitem()\n",
    "for key, values in users.items():\n",
    "    print(key, values)\n",
    "# print(users)"
   ]
  },
  {
   "cell_type": "code",
   "execution_count": 21,
   "id": "600a645a",
   "metadata": {},
   "outputs": [
    {
     "name": "stdout",
     "output_type": "stream",
     "text": [
      "1 {'username': 'Zeeshan', 'Email': 'zeeshan@gmal.com'}\n",
      "3 {'username': 'Izza', 'Email': 'Izza@gmail.com'}\n"
     ]
    }
   ],
   "source": [
    "users.pop('2')\n",
    "for key, values in users.items():\n",
    "    print(key, values)\n",
    "# print(users)"
   ]
  },
  {
   "cell_type": "markdown",
   "id": "28bd385b",
   "metadata": {},
   "source": [
    "#### Delete any item from dict is done by using `del` keyword followed by index number"
   ]
  },
  {
   "cell_type": "code",
   "execution_count": 22,
   "id": "4cccc375",
   "metadata": {},
   "outputs": [
    {
     "name": "stdout",
     "output_type": "stream",
     "text": [
      "1 {'username': 'Zeeshan', 'Email': 'zeeshan@gmal.com'}\n"
     ]
    }
   ],
   "source": [
    "del users['3']\n",
    "\n",
    "for key, values in users.items():\n",
    "    print(key, values)"
   ]
  }
 ],
 "metadata": {
  "kernelspec": {
   "display_name": "base",
   "language": "python",
   "name": "python3"
  },
  "language_info": {
   "codemirror_mode": {
    "name": "ipython",
    "version": 3
   },
   "file_extension": ".py",
   "mimetype": "text/x-python",
   "name": "python",
   "nbconvert_exporter": "python",
   "pygments_lexer": "ipython3",
   "version": "3.12.7"
  }
 },
 "nbformat": 4,
 "nbformat_minor": 5
}
