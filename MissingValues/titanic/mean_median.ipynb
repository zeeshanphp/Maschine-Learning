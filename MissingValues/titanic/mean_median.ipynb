{
 "cells": [
  {
   "cell_type": "markdown",
   "id": "86806bc6",
   "metadata": {},
   "source": [
    "## Handling Missing Values\n",
    "-`mean` for numeriacal data we can replace missing values with mean or median of the feature\n",
    "-`mode` for categorial data we use mode remember for categorical data only mode is used to fill null values `mean` and `median` are only compatible with numerical data"
   ]
  },
  {
   "cell_type": "code",
   "execution_count": 2,
   "id": "48c909a2",
   "metadata": {},
   "outputs": [
    {
     "data": {
      "text/html": [
       "<div>\n",
       "<style scoped>\n",
       "    .dataframe tbody tr th:only-of-type {\n",
       "        vertical-align: middle;\n",
       "    }\n",
       "\n",
       "    .dataframe tbody tr th {\n",
       "        vertical-align: top;\n",
       "    }\n",
       "\n",
       "    .dataframe thead th {\n",
       "        text-align: right;\n",
       "    }\n",
       "</style>\n",
       "<table border=\"1\" class=\"dataframe\">\n",
       "  <thead>\n",
       "    <tr style=\"text-align: right;\">\n",
       "      <th></th>\n",
       "      <th>survived</th>\n",
       "      <th>pclass</th>\n",
       "      <th>sex</th>\n",
       "      <th>age</th>\n",
       "      <th>sibsp</th>\n",
       "      <th>parch</th>\n",
       "      <th>fare</th>\n",
       "      <th>embarked</th>\n",
       "      <th>class</th>\n",
       "      <th>who</th>\n",
       "      <th>adult_male</th>\n",
       "      <th>deck</th>\n",
       "      <th>embark_town</th>\n",
       "      <th>alive</th>\n",
       "      <th>alone</th>\n",
       "    </tr>\n",
       "  </thead>\n",
       "  <tbody>\n",
       "    <tr>\n",
       "      <th>0</th>\n",
       "      <td>0</td>\n",
       "      <td>3</td>\n",
       "      <td>male</td>\n",
       "      <td>22.0</td>\n",
       "      <td>1</td>\n",
       "      <td>0</td>\n",
       "      <td>7.2500</td>\n",
       "      <td>S</td>\n",
       "      <td>Third</td>\n",
       "      <td>man</td>\n",
       "      <td>True</td>\n",
       "      <td>NaN</td>\n",
       "      <td>Southampton</td>\n",
       "      <td>no</td>\n",
       "      <td>False</td>\n",
       "    </tr>\n",
       "    <tr>\n",
       "      <th>1</th>\n",
       "      <td>1</td>\n",
       "      <td>1</td>\n",
       "      <td>female</td>\n",
       "      <td>38.0</td>\n",
       "      <td>1</td>\n",
       "      <td>0</td>\n",
       "      <td>71.2833</td>\n",
       "      <td>C</td>\n",
       "      <td>First</td>\n",
       "      <td>woman</td>\n",
       "      <td>False</td>\n",
       "      <td>C</td>\n",
       "      <td>Cherbourg</td>\n",
       "      <td>yes</td>\n",
       "      <td>False</td>\n",
       "    </tr>\n",
       "    <tr>\n",
       "      <th>2</th>\n",
       "      <td>1</td>\n",
       "      <td>3</td>\n",
       "      <td>female</td>\n",
       "      <td>26.0</td>\n",
       "      <td>0</td>\n",
       "      <td>0</td>\n",
       "      <td>7.9250</td>\n",
       "      <td>S</td>\n",
       "      <td>Third</td>\n",
       "      <td>woman</td>\n",
       "      <td>False</td>\n",
       "      <td>NaN</td>\n",
       "      <td>Southampton</td>\n",
       "      <td>yes</td>\n",
       "      <td>True</td>\n",
       "    </tr>\n",
       "    <tr>\n",
       "      <th>3</th>\n",
       "      <td>1</td>\n",
       "      <td>1</td>\n",
       "      <td>female</td>\n",
       "      <td>35.0</td>\n",
       "      <td>1</td>\n",
       "      <td>0</td>\n",
       "      <td>53.1000</td>\n",
       "      <td>S</td>\n",
       "      <td>First</td>\n",
       "      <td>woman</td>\n",
       "      <td>False</td>\n",
       "      <td>C</td>\n",
       "      <td>Southampton</td>\n",
       "      <td>yes</td>\n",
       "      <td>False</td>\n",
       "    </tr>\n",
       "    <tr>\n",
       "      <th>4</th>\n",
       "      <td>0</td>\n",
       "      <td>3</td>\n",
       "      <td>male</td>\n",
       "      <td>35.0</td>\n",
       "      <td>0</td>\n",
       "      <td>0</td>\n",
       "      <td>8.0500</td>\n",
       "      <td>S</td>\n",
       "      <td>Third</td>\n",
       "      <td>man</td>\n",
       "      <td>True</td>\n",
       "      <td>NaN</td>\n",
       "      <td>Southampton</td>\n",
       "      <td>no</td>\n",
       "      <td>True</td>\n",
       "    </tr>\n",
       "  </tbody>\n",
       "</table>\n",
       "</div>"
      ],
      "text/plain": [
       "   survived  pclass     sex   age  sibsp  parch     fare embarked  class  \\\n",
       "0         0       3    male  22.0      1      0   7.2500        S  Third   \n",
       "1         1       1  female  38.0      1      0  71.2833        C  First   \n",
       "2         1       3  female  26.0      0      0   7.9250        S  Third   \n",
       "3         1       1  female  35.0      1      0  53.1000        S  First   \n",
       "4         0       3    male  35.0      0      0   8.0500        S  Third   \n",
       "\n",
       "     who  adult_male deck  embark_town alive  alone  \n",
       "0    man        True  NaN  Southampton    no  False  \n",
       "1  woman       False    C    Cherbourg   yes  False  \n",
       "2  woman       False  NaN  Southampton   yes   True  \n",
       "3  woman       False    C  Southampton   yes  False  \n",
       "4    man        True  NaN  Southampton    no   True  "
      ]
     },
     "execution_count": 2,
     "metadata": {},
     "output_type": "execute_result"
    }
   ],
   "source": [
    "import numpy as np\n",
    "import pandas as pd\n",
    "import matplotlib as plt\n",
    "import seaborn as sns\n",
    "\n",
    "# Importing dataset\n",
    "\n",
    "df = pd.read_csv('../../Datasets/titanic.csv')\n",
    "df.head()"
   ]
  },
  {
   "cell_type": "markdown",
   "id": "943f8b1c",
   "metadata": {},
   "source": [
    "### Replacing Values with `median`"
   ]
  },
  {
   "cell_type": "code",
   "execution_count": 3,
   "id": "925b9cfa",
   "metadata": {},
   "outputs": [
    {
     "data": {
      "text/plain": [
       "0"
      ]
     },
     "execution_count": 3,
     "metadata": {},
     "output_type": "execute_result"
    }
   ],
   "source": [
    "# Checking Null values\n",
    "df.isnull().sum()\n",
    "# checking unique values\n",
    "df['age'].value_counts()\n",
    "\n",
    "# Handling missing values with mean\n",
    "med = df['age'].median()\n",
    "#old method\n",
    "# df['age'].fillna(med , inplace=True)\n",
    "# new method of pandas 3.0\n",
    "df['age'] = df['age'].fillna(med)\n",
    "df['age'].isnull().sum()"
   ]
  },
  {
   "cell_type": "markdown",
   "id": "a26744ee",
   "metadata": {},
   "source": [
    "### Replacing Values with `mean`"
   ]
  },
  {
   "cell_type": "code",
   "execution_count": 4,
   "id": "a1eac320",
   "metadata": {},
   "outputs": [
    {
     "data": {
      "text/plain": [
       "0"
      ]
     },
     "execution_count": 4,
     "metadata": {},
     "output_type": "execute_result"
    }
   ],
   "source": [
    "dfs = pd.read_csv('../../Datasets/titanic.csv')\n",
    "# Shows total null values in dataset\n",
    "dfs.isnull().sum()\n",
    "# Shows unique values in particular feature\n",
    "dfs['age'].value_counts()\n",
    "# count null values in feature\n",
    "dfs['age'].isnull().sum()\n",
    "# Check mean and median of feature\n",
    "dfs['age'].mean()\n",
    "# Checking median of numerical feature\n",
    "dfs['age'].median()\n",
    "# Replacing Null values in feature\n",
    "dfs['age'] = dfs['age'].fillna(dfs['age'].mean())\n",
    "# Checking total null values\n",
    "dfs['age'].isnull().sum()"
   ]
  },
  {
   "cell_type": "markdown",
   "id": "f636aa60",
   "metadata": {},
   "source": [
    "### Replacing Values with `mode`\n",
    "Replacing Values using Mode (`Only for categorical values`)  \n",
    "`Thing to remember` There will be more than one mode in a feature so we will get the very first which comes.  \n",
    "`mode()` method in pandas will return an array of modes we will get the first by passing the index `0`"
   ]
  },
  {
   "cell_type": "code",
   "execution_count": 5,
   "id": "7a3b288e",
   "metadata": {},
   "outputs": [
    {
     "data": {
      "text/plain": [
       "deck\n",
       "C    747\n",
       "B     47\n",
       "D     33\n",
       "E     32\n",
       "A     15\n",
       "F     13\n",
       "G      4\n",
       "Name: count, dtype: int64"
      ]
     },
     "execution_count": 5,
     "metadata": {},
     "output_type": "execute_result"
    }
   ],
   "source": [
    "# Checking null values \n",
    "dfs['deck'].isnull().sum()\n",
    "# Checking Mode\n",
    "dfs['deck'].mode()\n",
    "# Getting the first mode\n",
    "dfs['deck'].mode()[0]\n",
    "# Fill the missing Values with mode\n",
    "dfs['deck'] = dfs['deck'].fillna(dfs['deck'].mode()[0])\n",
    "# Checking null values \n",
    "dfs['deck'].isnull().sum()\n",
    "dfs['deck'].value_counts()"
   ]
  },
  {
   "cell_type": "markdown",
   "id": "7b1989b9",
   "metadata": {},
   "source": [
    "### HANDLE MISSING VALUES USING SCIKIT LEARN (`mean` , `median` , `mode`)"
   ]
  },
  {
   "cell_type": "code",
   "execution_count": 20,
   "id": "fc721876",
   "metadata": {},
   "outputs": [
    {
     "data": {
      "text/plain": [
       "0    NaN\n",
       "1      C\n",
       "2    NaN\n",
       "3      C\n",
       "4    NaN\n",
       "Name: deck, dtype: object"
      ]
     },
     "execution_count": 20,
     "metadata": {},
     "output_type": "execute_result"
    }
   ],
   "source": [
    "# Replacing NULL values with mean using SimpleImputer\n",
    "import pandas as pd\n",
    "from sklearn.impute import SimpleImputer\n",
    "\n",
    "sdf = pd.read_csv('../../Datasets/titanic.csv')\n",
    "sdf.head()\n",
    "imp = SimpleImputer(strategy='mean')\n",
    "sdf['age'] = imp.fit_transform(sdf[['age']])\n",
    "sdf.isnull().sum()\n",
    "sdf['deck'].head()"
   ]
  },
  {
   "cell_type": "code",
   "execution_count": null,
   "id": "2c2c4630",
   "metadata": {},
   "outputs": [
    {
     "data": {
      "text/plain": [
       "0"
      ]
     },
     "execution_count": 14,
     "metadata": {},
     "output_type": "execute_result"
    }
   ],
   "source": [
    "# Replacing NULL values with median using SimpleImputer\n",
    "from sklearn.impute import SimpleImputer\n",
    "med = sns.load_dataset('titanic')\n",
    "imput = SimpleImputer(strategy='median')\n",
    "med['age'] = imput.fit_transform(med[['age']])\n",
    "med['age'].isnull().sum()\n"
   ]
  },
  {
   "cell_type": "markdown",
   "id": "ba248d65",
   "metadata": {},
   "source": [
    "#### Replacing NULL / Missing values in categorical variables "
   ]
  },
  {
   "cell_type": "code",
   "execution_count": 19,
   "id": "35040e16",
   "metadata": {},
   "outputs": [
    {
     "data": {
      "text/plain": [
       "0    C\n",
       "1    C\n",
       "2    C\n",
       "3    C\n",
       "4    C\n",
       "Name: deck, dtype: object"
      ]
     },
     "execution_count": 19,
     "metadata": {},
     "output_type": "execute_result"
    }
   ],
   "source": [
    "med['deck'].head()\n",
    "imp = SimpleImputer(strategy='most_frequent')\n",
    "med['deck'] = imp.fit_transform(med[['deck']]).ravel()\n",
    "med['deck'].head()"
   ]
  }
 ],
 "metadata": {
  "kernelspec": {
   "display_name": "base",
   "language": "python",
   "name": "python3"
  },
  "language_info": {
   "codemirror_mode": {
    "name": "ipython",
    "version": 3
   },
   "file_extension": ".py",
   "mimetype": "text/x-python",
   "name": "python",
   "nbconvert_exporter": "python",
   "pygments_lexer": "ipython3",
   "version": "3.12.7"
  }
 },
 "nbformat": 4,
 "nbformat_minor": 5
}
