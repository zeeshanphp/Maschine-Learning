{
 "cells": [
  {
   "cell_type": "markdown",
   "id": "4b861157",
   "metadata": {},
   "source": [
    "## K Nearest Neighbour\n",
    "#### `(Works Only On Numeric Data)`\n",
    "This is ML algorithm it will replace/impute null values with its nearest neighbour.  It will see all the other features and predict the value on the basis of 5/7 nearest datapionts and than it takes mean / median to replace missing values\n",
    "\n",
    "-- 1. import `KNNImputer` from sklearn library  \n",
    "-- 2. Make an object of that imputer and pass number of neighbors `imp = KNNImputer(n_neighbors=4)`  \n",
    "-- 3. Select the feature to impute values  \n",
    "-- 4. fit_transform([df['feat']])  \n",
    "`fit_transform m 2D data dalna ha df['age'] nae blky df[['age']] asy likhna ha` "
   ]
  },
  {
   "cell_type": "code",
   "execution_count": null,
   "id": "6876b66d",
   "metadata": {},
   "outputs": [],
   "source": [
    "import numpy as np\n",
    "import pandas as pd\n",
    "from sklearn.impute import KNNImputer\n"
   ]
  },
  {
   "cell_type": "markdown",
   "id": "776d07d6",
   "metadata": {},
   "source": [
    "### Loading datast and IMPUTING using KNN "
   ]
  },
  {
   "cell_type": "code",
   "execution_count": 4,
   "id": "9d5d855b",
   "metadata": {},
   "outputs": [
    {
     "data": {
      "text/plain": [
       "survived         0\n",
       "pclass           0\n",
       "sex              0\n",
       "age            177\n",
       "sibsp            0\n",
       "parch            0\n",
       "fare             0\n",
       "embarked         2\n",
       "class            0\n",
       "who              0\n",
       "adult_male       0\n",
       "deck           688\n",
       "embark_town      2\n",
       "alive            0\n",
       "alone            0\n",
       "dtype: int64"
      ]
     },
     "execution_count": 4,
     "metadata": {},
     "output_type": "execute_result"
    }
   ],
   "source": [
    "# Loading Dataset\n",
    "df = pd.read_csv('../../Datasets/titanic.csv')\n",
    "# df.head()\n",
    "# Checking Null Values\n",
    "df.isnull().sum()"
   ]
  },
  {
   "cell_type": "code",
   "execution_count": 14,
   "id": "f55da15d",
   "metadata": {},
   "outputs": [
    {
     "data": {
      "text/plain": [
       "0"
      ]
     },
     "execution_count": 14,
     "metadata": {},
     "output_type": "execute_result"
    }
   ],
   "source": [
    "# Initializing Imputer\n",
    "imputer = KNNImputer(n_neighbors = 5)\n",
    "# Select Feature to impute null values\n",
    "df['age']\n",
    "# Count null values\n",
    "df['age'].isnull().sum()\n",
    "# Fit and transform the model to execute\n",
    "df['age'] = imputer.fit_transform(df[['age']])\n",
    "df['age'].isnull().sum()\n",
    "\n"
   ]
  }
 ],
 "metadata": {
  "kernelspec": {
   "display_name": "base",
   "language": "python",
   "name": "python3"
  },
  "language_info": {
   "codemirror_mode": {
    "name": "ipython",
    "version": 3
   },
   "file_extension": ".py",
   "mimetype": "text/x-python",
   "name": "python",
   "nbconvert_exporter": "python",
   "pygments_lexer": "ipython3",
   "version": "3.12.7"
  }
 },
 "nbformat": 4,
 "nbformat_minor": 5
}
