{
 "cells": [
  {
   "cell_type": "markdown",
   "id": "c167924d",
   "metadata": {},
   "source": [
    "## Mean, Median, Mode Imputation"
   ]
  },
  {
   "cell_type": "code",
   "execution_count": 30,
   "id": "1108cb78",
   "metadata": {},
   "outputs": [
    {
     "data": {
      "text/plain": [
       "0    0.210000\n",
       "1    0.380000\n",
       "2    1.373221\n",
       "3    4.640000\n",
       "4    0.100000\n",
       "Name: reviews_per_month, dtype: float64"
      ]
     },
     "execution_count": 30,
     "metadata": {},
     "output_type": "execute_result"
    }
   ],
   "source": [
    "import pandas as pd\n",
    "import numpy as np\n",
    "\n",
    "df = pd.read_csv('../../DSs/airbnb.csv')\n",
    "# Columns info\n",
    "# df.info()\n",
    "# Checking Null values\n",
    "df['reviews_per_month'].isnull().sum()\n",
    "# Replacing with mean\n",
    "df['reviews_per_month'].head()\n",
    "df['reviews_per_month'] = df['reviews_per_month'].fillna(df['reviews_per_month'].mean())\n",
    "df['reviews_per_month'].head()\n"
   ]
  },
  {
   "cell_type": "markdown",
   "id": "ae373399",
   "metadata": {},
   "source": [
    "### Replacing with Median"
   ]
  },
  {
   "cell_type": "code",
   "execution_count": 31,
   "id": "c15f9a0a",
   "metadata": {},
   "outputs": [
    {
     "data": {
      "text/plain": [
       "0    0.21\n",
       "1    0.38\n",
       "2    0.72\n",
       "3    4.64\n",
       "4    0.10\n",
       "Name: reviews_per_month, dtype: float64"
      ]
     },
     "execution_count": 31,
     "metadata": {},
     "output_type": "execute_result"
    }
   ],
   "source": [
    "dfs = pd.read_csv('../../DSs/airbnb.csv')\n",
    "dfs['reviews_per_month'].head()\n",
    "dfs['reviews_per_month'].median()\n",
    "dfs['reviews_per_month'] = dfs['reviews_per_month'].fillna(dfs['reviews_per_month'].median())\n",
    "dfs['reviews_per_month'].head()"
   ]
  },
  {
   "cell_type": "code",
   "execution_count": 35,
   "id": "c8f5ae45",
   "metadata": {},
   "outputs": [
    {
     "data": {
      "text/plain": [
       "0    0.210000\n",
       "1    0.380000\n",
       "2    1.373221\n",
       "3    4.640000\n",
       "4    0.100000\n",
       "Name: reviews_per_month, dtype: float64"
      ]
     },
     "execution_count": 35,
     "metadata": {},
     "output_type": "execute_result"
    }
   ],
   "source": [
    "from sklearn.impute import KNNImputer\n",
    "impdata = pd.read_csv('../../DSs/airbnb.csv')\n",
    "imp = KNNImputer(n_neighbors = 5)\n",
    "impdata['reviews_per_month'] = imp.fit_transform(impdata[['reviews_per_month']])\n",
    "impdata['reviews_per_month'].head()\n"
   ]
  }
 ],
 "metadata": {
  "kernelspec": {
   "display_name": "base",
   "language": "python",
   "name": "python3"
  },
  "language_info": {
   "codemirror_mode": {
    "name": "ipython",
    "version": 3
   },
   "file_extension": ".py",
   "mimetype": "text/x-python",
   "name": "python",
   "nbconvert_exporter": "python",
   "pygments_lexer": "ipython3",
   "version": "3.12.7"
  }
 },
 "nbformat": 4,
 "nbformat_minor": 5
}
